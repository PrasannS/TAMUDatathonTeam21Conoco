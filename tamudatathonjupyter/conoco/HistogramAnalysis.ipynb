{
 "cells": [
  {
   "cell_type": "markdown",
   "metadata": {},
   "source": [
    "# Histogram Analysis\n",
    "---\n",
    "The goal of this notebook is to look at the 7 sensors that contain histogram data. "
   ]
  },
  {
   "cell_type": "code",
   "execution_count": 130,
   "metadata": {},
   "outputs": [],
   "source": [
    "import pandas as pd\n",
    "import numpy as np\n",
    "import matplotlib.pyplot as plt\n",
    "\n",
    "from sklearn.metrics import f1_score, confusion_matrix"
   ]
  },
  {
   "cell_type": "code",
   "execution_count": 131,
   "metadata": {},
   "outputs": [],
   "source": [
    "data = pd.read_csv('equip_failures_training_set.csv', na_values=['na'], dtype=np.float64)"
   ]
  },
  {
   "cell_type": "markdown",
   "metadata": {},
   "source": [
    "## Data Preprocessing\n",
    "---\n",
    "Here we do some basic methods to preprocess the data and reduce dimensionality using PCA. "
   ]
  },
  {
   "cell_type": "code",
   "execution_count": 132,
   "metadata": {
    "scrolled": false
   },
   "outputs": [
    {
     "data": {
      "text/html": [
       "<div>\n",
       "<style scoped>\n",
       "    .dataframe tbody tr th:only-of-type {\n",
       "        vertical-align: middle;\n",
       "    }\n",
       "\n",
       "    .dataframe tbody tr th {\n",
       "        vertical-align: top;\n",
       "    }\n",
       "\n",
       "    .dataframe thead th {\n",
       "        text-align: right;\n",
       "    }\n",
       "</style>\n",
       "<table border=\"1\" class=\"dataframe\">\n",
       "  <thead>\n",
       "    <tr style=\"text-align: right;\">\n",
       "      <th></th>\n",
       "      <th>target</th>\n",
       "      <th>sensor7_histogram_bin0</th>\n",
       "      <th>sensor7_histogram_bin1</th>\n",
       "      <th>sensor7_histogram_bin2</th>\n",
       "      <th>sensor7_histogram_bin3</th>\n",
       "      <th>sensor7_histogram_bin4</th>\n",
       "      <th>sensor7_histogram_bin5</th>\n",
       "      <th>sensor7_histogram_bin6</th>\n",
       "      <th>sensor7_histogram_bin7</th>\n",
       "      <th>sensor7_histogram_bin8</th>\n",
       "      <th>...</th>\n",
       "      <th>sensor105_histogram_bin0</th>\n",
       "      <th>sensor105_histogram_bin1</th>\n",
       "      <th>sensor105_histogram_bin2</th>\n",
       "      <th>sensor105_histogram_bin3</th>\n",
       "      <th>sensor105_histogram_bin4</th>\n",
       "      <th>sensor105_histogram_bin5</th>\n",
       "      <th>sensor105_histogram_bin6</th>\n",
       "      <th>sensor105_histogram_bin7</th>\n",
       "      <th>sensor105_histogram_bin8</th>\n",
       "      <th>sensor105_histogram_bin9</th>\n",
       "    </tr>\n",
       "  </thead>\n",
       "  <tbody>\n",
       "    <tr>\n",
       "      <td>0</td>\n",
       "      <td>0.0</td>\n",
       "      <td>0.0</td>\n",
       "      <td>0.0</td>\n",
       "      <td>0.0</td>\n",
       "      <td>0.0</td>\n",
       "      <td>37250.0</td>\n",
       "      <td>1432864.0</td>\n",
       "      <td>3664156.0</td>\n",
       "      <td>1007684.0</td>\n",
       "      <td>25896.0</td>\n",
       "      <td>...</td>\n",
       "      <td>965866.0</td>\n",
       "      <td>1706908.0</td>\n",
       "      <td>1240520.0</td>\n",
       "      <td>493384.0</td>\n",
       "      <td>721044.0</td>\n",
       "      <td>469792.0</td>\n",
       "      <td>339156.0</td>\n",
       "      <td>157956.0</td>\n",
       "      <td>73224.0</td>\n",
       "      <td>0.0</td>\n",
       "    </tr>\n",
       "    <tr>\n",
       "      <td>1</td>\n",
       "      <td>0.0</td>\n",
       "      <td>0.0</td>\n",
       "      <td>0.0</td>\n",
       "      <td>0.0</td>\n",
       "      <td>0.0</td>\n",
       "      <td>18254.0</td>\n",
       "      <td>653294.0</td>\n",
       "      <td>1720800.0</td>\n",
       "      <td>516724.0</td>\n",
       "      <td>31642.0</td>\n",
       "      <td>...</td>\n",
       "      <td>664504.0</td>\n",
       "      <td>824154.0</td>\n",
       "      <td>421400.0</td>\n",
       "      <td>178064.0</td>\n",
       "      <td>293306.0</td>\n",
       "      <td>245416.0</td>\n",
       "      <td>133654.0</td>\n",
       "      <td>81140.0</td>\n",
       "      <td>97576.0</td>\n",
       "      <td>1500.0</td>\n",
       "    </tr>\n",
       "    <tr>\n",
       "      <td>2</td>\n",
       "      <td>0.0</td>\n",
       "      <td>0.0</td>\n",
       "      <td>0.0</td>\n",
       "      <td>0.0</td>\n",
       "      <td>0.0</td>\n",
       "      <td>1648.0</td>\n",
       "      <td>370592.0</td>\n",
       "      <td>1883374.0</td>\n",
       "      <td>292936.0</td>\n",
       "      <td>12016.0</td>\n",
       "      <td>...</td>\n",
       "      <td>262032.0</td>\n",
       "      <td>453378.0</td>\n",
       "      <td>277378.0</td>\n",
       "      <td>159812.0</td>\n",
       "      <td>423992.0</td>\n",
       "      <td>409564.0</td>\n",
       "      <td>320746.0</td>\n",
       "      <td>158022.0</td>\n",
       "      <td>95128.0</td>\n",
       "      <td>514.0</td>\n",
       "    </tr>\n",
       "    <tr>\n",
       "      <td>3</td>\n",
       "      <td>0.0</td>\n",
       "      <td>0.0</td>\n",
       "      <td>0.0</td>\n",
       "      <td>0.0</td>\n",
       "      <td>318.0</td>\n",
       "      <td>2212.0</td>\n",
       "      <td>3232.0</td>\n",
       "      <td>1872.0</td>\n",
       "      <td>0.0</td>\n",
       "      <td>0.0</td>\n",
       "      <td>...</td>\n",
       "      <td>5670.0</td>\n",
       "      <td>1566.0</td>\n",
       "      <td>240.0</td>\n",
       "      <td>46.0</td>\n",
       "      <td>58.0</td>\n",
       "      <td>44.0</td>\n",
       "      <td>10.0</td>\n",
       "      <td>0.0</td>\n",
       "      <td>0.0</td>\n",
       "      <td>0.0</td>\n",
       "    </tr>\n",
       "    <tr>\n",
       "      <td>4</td>\n",
       "      <td>0.0</td>\n",
       "      <td>0.0</td>\n",
       "      <td>0.0</td>\n",
       "      <td>0.0</td>\n",
       "      <td>0.0</td>\n",
       "      <td>43752.0</td>\n",
       "      <td>1966618.0</td>\n",
       "      <td>1800340.0</td>\n",
       "      <td>131646.0</td>\n",
       "      <td>4588.0</td>\n",
       "      <td>...</td>\n",
       "      <td>404740.0</td>\n",
       "      <td>904230.0</td>\n",
       "      <td>622012.0</td>\n",
       "      <td>229790.0</td>\n",
       "      <td>405298.0</td>\n",
       "      <td>347188.0</td>\n",
       "      <td>286954.0</td>\n",
       "      <td>311560.0</td>\n",
       "      <td>433954.0</td>\n",
       "      <td>1218.0</td>\n",
       "    </tr>\n",
       "  </tbody>\n",
       "</table>\n",
       "<p>5 rows × 71 columns</p>\n",
       "</div>"
      ],
      "text/plain": [
       "   target  sensor7_histogram_bin0  sensor7_histogram_bin1  \\\n",
       "0     0.0                     0.0                     0.0   \n",
       "1     0.0                     0.0                     0.0   \n",
       "2     0.0                     0.0                     0.0   \n",
       "3     0.0                     0.0                     0.0   \n",
       "4     0.0                     0.0                     0.0   \n",
       "\n",
       "   sensor7_histogram_bin2  sensor7_histogram_bin3  sensor7_histogram_bin4  \\\n",
       "0                     0.0                     0.0                 37250.0   \n",
       "1                     0.0                     0.0                 18254.0   \n",
       "2                     0.0                     0.0                  1648.0   \n",
       "3                     0.0                   318.0                  2212.0   \n",
       "4                     0.0                     0.0                 43752.0   \n",
       "\n",
       "   sensor7_histogram_bin5  sensor7_histogram_bin6  sensor7_histogram_bin7  \\\n",
       "0               1432864.0               3664156.0               1007684.0   \n",
       "1                653294.0               1720800.0                516724.0   \n",
       "2                370592.0               1883374.0                292936.0   \n",
       "3                  3232.0                  1872.0                     0.0   \n",
       "4               1966618.0               1800340.0                131646.0   \n",
       "\n",
       "   sensor7_histogram_bin8  ...  sensor105_histogram_bin0  \\\n",
       "0                 25896.0  ...                  965866.0   \n",
       "1                 31642.0  ...                  664504.0   \n",
       "2                 12016.0  ...                  262032.0   \n",
       "3                     0.0  ...                    5670.0   \n",
       "4                  4588.0  ...                  404740.0   \n",
       "\n",
       "   sensor105_histogram_bin1  sensor105_histogram_bin2  \\\n",
       "0                 1706908.0                 1240520.0   \n",
       "1                  824154.0                  421400.0   \n",
       "2                  453378.0                  277378.0   \n",
       "3                    1566.0                     240.0   \n",
       "4                  904230.0                  622012.0   \n",
       "\n",
       "   sensor105_histogram_bin3  sensor105_histogram_bin4  \\\n",
       "0                  493384.0                  721044.0   \n",
       "1                  178064.0                  293306.0   \n",
       "2                  159812.0                  423992.0   \n",
       "3                      46.0                      58.0   \n",
       "4                  229790.0                  405298.0   \n",
       "\n",
       "   sensor105_histogram_bin5  sensor105_histogram_bin6  \\\n",
       "0                  469792.0                  339156.0   \n",
       "1                  245416.0                  133654.0   \n",
       "2                  409564.0                  320746.0   \n",
       "3                      44.0                      10.0   \n",
       "4                  347188.0                  286954.0   \n",
       "\n",
       "   sensor105_histogram_bin7  sensor105_histogram_bin8  \\\n",
       "0                  157956.0                   73224.0   \n",
       "1                   81140.0                   97576.0   \n",
       "2                  158022.0                   95128.0   \n",
       "3                       0.0                       0.0   \n",
       "4                  311560.0                  433954.0   \n",
       "\n",
       "   sensor105_histogram_bin9  \n",
       "0                       0.0  \n",
       "1                    1500.0  \n",
       "2                     514.0  \n",
       "3                       0.0  \n",
       "4                    1218.0  \n",
       "\n",
       "[5 rows x 71 columns]"
      ]
     },
     "execution_count": 132,
     "metadata": {},
     "output_type": "execute_result"
    }
   ],
   "source": [
    "threshold = 1.0 * len(data['target'])\n",
    "cols = []\n",
    "\n",
    "for col in data.columns:\n",
    "    if 'histogram' not in col and 'target' not in col:\n",
    "        cols.append(col)\n",
    "        \n",
    "        \n",
    "data.drop(columns=cols, inplace=True, axis=1)\n",
    "data.fillna(value=0.0, inplace=True)\n",
    "data.head()"
   ]
  },
  {
   "cell_type": "markdown",
   "metadata": {},
   "source": [
    "## Visualizations\n",
    "---"
   ]
  },
  {
   "cell_type": "code",
   "execution_count": 133,
   "metadata": {},
   "outputs": [
    {
     "data": {
      "text/plain": [
       "(array([1., 0., 0., 0., 1., 0., 0., 0., 0., 1.]),\n",
       " array([   9128. ,  154498.8,  299869.6,  445240.4,  590611.2,  735982. ,\n",
       "         881352.8, 1026723.6, 1172094.4, 1317465.2, 1462836. ]),\n",
       " <a list of 10 Patch objects>)"
      ]
     },
     "execution_count": 133,
     "metadata": {},
     "output_type": "execute_result"
    },
    {
     "data": {
      "image/png": "[encoded data removed]",
      "text/plain": [
       "<Figure size 432x288 with 6 Axes>"
      ]
     },
     "metadata": {
      "needs_background": "light"
     },
     "output_type": "display_data"
    }
   ],
   "source": [
    "sensor7 = data.loc[:, 'sensor7_histogram_bin4':'sensor7_histogram_bin6']\n",
    "n_bins = 10\n",
    "\n",
    "figs, axs = plt.subplots(3, 2, sharey=True, tight_layout=True)\n",
    "\n",
    "axs[0][0].hist(sensor7.loc[0, :], bins=n_bins)\n",
    "axs[0][1].hist(sensor7.loc[1, :], bins=n_bins)\n",
    "axs[1][0].hist(sensor7.loc[2, :], bins=n_bins)\n",
    "axs[1][1].hist(sensor7.loc[3, :], bins=n_bins)\n",
    "axs[2][0].hist(sensor7.loc[4, :], bins=n_bins)\n",
    "axs[2][1].hist(sensor7.loc[5, :], bins=n_bins)"
   ]
  },
  {
   "cell_type": "markdown",
   "metadata": {},
   "source": [
    "## Train Test Split\n",
    "---"
   ]
  },
  {
   "cell_type": "code",
   "execution_count": 134,
   "metadata": {},
   "outputs": [],
   "source": [
    "from sklearn.preprocessing import StandardScaler\n",
    "from sklearn.model_selection import train_test_split\n",
    "\n",
    "scaler = StandardScaler()\n",
    "X = data.loc[:, 'sensor7_histogram_bin0'::]\n",
    "y = data['target']\n",
    "\n",
    "x_train, x_test, y_train, y_test = train_test_split(X, y, test_size=0.20, random_state=0)"
   ]
  },
  {
   "cell_type": "markdown",
   "metadata": {},
   "source": [
    "### Principal Component Analysis\n",
    "---\n",
    "Performing PCA on the extracted dataset."
   ]
  },
  {
   "cell_type": "code",
   "execution_count": 135,
   "metadata": {},
   "outputs": [],
   "source": [
    "from sklearn.decomposition import PCA\n",
    "\n",
    "n_comp = 4\n",
    "\n",
    "pca_train = PCA(n_components=n_comp).fit_transform(x_train)\n",
    "pca_test = PCA(n_components=n_comp).fit_transform(x_test)\n",
    "pca = PCA(n_components=n_comp).fit(X)"
   ]
  },
  {
   "cell_type": "code",
   "execution_count": 136,
   "metadata": {},
   "outputs": [
    {
     "data": {
      "text/plain": [
       "array([0.7103782 , 0.09251757, 0.04985399, 0.04054993])"
      ]
     },
     "execution_count": 136,
     "metadata": {},
     "output_type": "execute_result"
    }
   ],
   "source": [
    "pca.explained_variance_ratio_"
   ]
  },
  {
   "cell_type": "markdown",
   "metadata": {},
   "source": [
    "## Random Forest Classifier\n",
    "---\n"
   ]
  },
  {
   "cell_type": "code",
   "execution_count": 137,
   "metadata": {},
   "outputs": [
    {
     "name": "stderr",
     "output_type": "stream",
     "text": [
      "/opt/anaconda3/lib/python3.7/site-packages/sklearn/ensemble/forest.py:245: FutureWarning: The default value of n_estimators will change from 10 in version 0.20 to 100 in 0.22.\n",
      "  \"10 in version 0.20 to 100 in 0.22.\", FutureWarning)\n"
     ]
    },
    {
     "data": {
      "text/plain": [
       "RandomForestClassifier(bootstrap=True, class_weight=None, criterion='gini',\n",
       "                       max_depth=5, max_features='auto', max_leaf_nodes=None,\n",
       "                       min_impurity_decrease=0.0, min_impurity_split=None,\n",
       "                       min_samples_leaf=1, min_samples_split=2,\n",
       "                       min_weight_fraction_leaf=0.0, n_estimators=10,\n",
       "                       n_jobs=None, oob_score=False, random_state=None,\n",
       "                       verbose=0, warm_start=False)"
      ]
     },
     "execution_count": 137,
     "metadata": {},
     "output_type": "execute_result"
    }
   ],
   "source": [
    "from sklearn.ensemble import RandomForestClassifier\n",
    "\n",
    "rf_model = RandomForestClassifier(max_depth=5)\n",
    "rf_model.fit(pca_train, y_train) # x_train"
   ]
  },
  {
   "cell_type": "code",
   "execution_count": 138,
   "metadata": {},
   "outputs": [
    {
     "name": "stdout",
     "output_type": "stream",
     "text": [
      "0.15510204081632653\n",
      "[[11774    42]\n",
      " [  165    19]]\n"
     ]
    }
   ],
   "source": [
    "y_pred_test = rf_model.predict(pca_test)\n",
    "print(f1_score(y_pred=y_pred_test, y_true=y_test))\n",
    "print(confusion_matrix(y_pred=y_pred_test, y_true=y_test))"
   ]
  },
  {
   "cell_type": "markdown",
   "metadata": {},
   "source": [
    "## Support Vector Machine\n",
    "---\n"
   ]
  },
  {
   "cell_type": "code",
   "execution_count": 139,
   "metadata": {},
   "outputs": [
    {
     "data": {
      "text/plain": [
       "SVC(C=1.0, cache_size=200, class_weight=None, coef0=0.0,\n",
       "    decision_function_shape='ovr', degree=3, gamma='auto', kernel='rbf',\n",
       "    max_iter=-1, probability=False, random_state=None, shrinking=True,\n",
       "    tol=0.001, verbose=False)"
      ]
     },
     "execution_count": 139,
     "metadata": {},
     "output_type": "execute_result"
    }
   ],
   "source": [
    "from sklearn.svm import SVC\n",
    "\n",
    "svm_model = SVC(gamma='auto')\n",
    "svm_model.fit(pca_train, y_train)"
   ]
  },
  {
   "cell_type": "code",
   "execution_count": 140,
   "metadata": {},
   "outputs": [
    {
     "name": "stdout",
     "output_type": "stream",
     "text": [
      "0.0\n",
      "[[11816     0]\n",
      " [  184     0]]\n"
     ]
    },
    {
     "name": "stderr",
     "output_type": "stream",
     "text": [
      "/opt/anaconda3/lib/python3.7/site-packages/sklearn/metrics/classification.py:1437: UndefinedMetricWarning: F-score is ill-defined and being set to 0.0 due to no predicted samples.\n",
      "  'precision', 'predicted', average, warn_for)\n"
     ]
    }
   ],
   "source": [
    "y_pred_test = svm_model.predict(pca_test)\n",
    "print(f1_score(y_pred=y_pred_test, y_true=y_test))\n",
    "print(confusion_matrix(y_pred=y_pred_test, y_true=y_test))"
   ]
  },
  {
   "cell_type": "markdown",
   "metadata": {},
   "source": [
    "## Logisitic Regression\n",
    "---\n"
   ]
  },
  {
   "cell_type": "code",
   "execution_count": 142,
   "metadata": {},
   "outputs": [
    {
     "name": "stderr",
     "output_type": "stream",
     "text": [
      "/opt/anaconda3/lib/python3.7/site-packages/sklearn/linear_model/logistic.py:432: FutureWarning: Default solver will be changed to 'lbfgs' in 0.22. Specify a solver to silence this warning.\n",
      "  FutureWarning)\n"
     ]
    },
    {
     "data": {
      "text/plain": [
       "LogisticRegression(C=1.0, class_weight=None, dual=False, fit_intercept=True,\n",
       "                   intercept_scaling=1, l1_ratio=None, max_iter=100,\n",
       "                   multi_class='warn', n_jobs=None, penalty='l2',\n",
       "                   random_state=None, solver='warn', tol=0.0001, verbose=0,\n",
       "                   warm_start=False)"
      ]
     },
     "execution_count": 142,
     "metadata": {},
     "output_type": "execute_result"
    }
   ],
   "source": [
    "from sklearn.linear_model import LogisticRegression\n",
    "\n",
    "log_model = LogisticRegression()\n",
    "log_model.fit(pca_train, y_train)"
   ]
  },
  {
   "cell_type": "code",
   "execution_count": 143,
   "metadata": {},
   "outputs": [
    {
     "name": "stdout",
     "output_type": "stream",
     "text": [
      "0.09503988900450919\n",
      "[[9254 2562]\n",
      " [  47  137]]\n"
     ]
    }
   ],
   "source": [
    "y_pred_test = log_model.predict(pca_test)\n",
    "print(f1_score(y_pred=y_pred_test, y_true=y_test))\n",
    "print(confusion_matrix(y_pred=y_pred_test, y_true=y_test))"
   ]
  },
  {
   "cell_type": "markdown",
   "metadata": {},
   "source": [
    "## Keras Model\n",
    "---\n",
    "The goal behind this model is to serialize all histogram data into a vector of shape (70,). This vector will be fed into the model and a one-hot encoded vector with two elements will be the output"
   ]
  },
  {
   "cell_type": "code",
   "execution_count": null,
   "metadata": {},
   "outputs": [],
   "source": [
    "from keras.models import Sequential\n",
    "from keras.layers import Dense, Dropout"
   ]
  },
  {
   "cell_type": "code",
   "execution_count": null,
   "metadata": {},
   "outputs": [],
   "source": [
    "model = Sequential()\n",
    "model.add(Dense(32, activation='relu', input_dim=70))\n",
    "model.add(Dropout(0.5))\n",
    "model.add(Dense(32, activation='relu'))\n",
    "model.add(Dropout(0.5))\n",
    "model.add(Dense(2, activation='softmax'))\n",
    "model.summary()"
   ]
  },
  {
   "cell_type": "code",
   "execution_count": null,
   "metadata": {},
   "outputs": [],
   "source": [
    "model.compile(loss='categorical_crossentropy',\n",
    "             optimizer='adam',\n",
    "             metrics=['accuracy'])"
   ]
  },
  {
   "cell_type": "markdown",
   "metadata": {},
   "source": [
    "Now we need to reshape the data so that it can be trained using the model"
   ]
  },
  {
   "cell_type": "code",
   "execution_count": null,
   "metadata": {},
   "outputs": [],
   "source": []
  },
  {
   "cell_type": "markdown",
   "metadata": {},
   "source": [
    "## References\n",
    "---\n",
    "https://pdfs.semanticscholar.org/b8c8/347f9c33935b97703ecd35a67af5c5508487.pdf\n",
    "\n",
    "https://arxiv.org/pdf/1202.1436.pdf\n",
    "\n",
    "https://arxiv.org/pdf/1303.6199.pdf\n",
    "\n",
    "https://link.springer.com/chapter/10.1007/978-3-642-13312-1_1           "
   ]
  }
 ],
 "metadata": {
  "kernelspec": {
   "display_name": "Python 3",
   "language": "python",
   "name": "python3"
  },
  "language_info": {
   "codemirror_mode": {
    "name": "ipython",
    "version": 3
   },
   "file_extension": ".py",
   "mimetype": "text/x-python",
   "name": "python",
   "nbconvert_exporter": "python",
   "pygments_lexer": "ipython3",
   "version": "3.7.4"
  }
 },
 "nbformat": 4,
 "nbformat_minor": 2
}
